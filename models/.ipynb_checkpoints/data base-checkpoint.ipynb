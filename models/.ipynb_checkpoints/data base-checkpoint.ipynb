{
 "cells": [
  {
   "cell_type": "raw",
   "id": "e54bd747",
   "metadata": {},
   "source": [
    "CREATE TABLE medicinal_plants (\n",
    "    id INT AUTO_INCREMENT PRIMARY KEY,\n",
    "    common_name VARCHAR(255) NOT NULL,\n",
    "    description TEXT,\n",
    "    scientific_name VARCHAR(255) NOT NULL,    \n",
    "    uses TEXT,\n",
    "    origin VARCHAR(255),\n",
    "    availability VARCHAR(255),\n",
    "    related_species VARCHAR(255),\n",
    "    climate VARCHAR(255),\n",
    "    soil VARCHAR(255),\n",
    "    image_name VARCHAR(255) NOT NULL\n",
    ");"
   ]
  },
  {
   "cell_type": "code",
   "execution_count": 7,
   "id": "1aa577b2",
   "metadata": {},
   "outputs": [
    {
     "name": "stdout",
     "output_type": "stream",
     "text": [
      "Connected to MySQL successfully!\n",
      "40 records inserted successfully!\n",
      "MySQL connection closed.\n"
     ]
    }
   ],
   "source": [
    "import mysql.connector\n",
    "import pandas as pd\n",
    "\n",
    "# MySQL Connection Configurations\n",
    "db_config = {\n",
    "    \"host\": \"localhost\",\n",
    "    \"user\": \"root\",\n",
    "    \"password\": \"root\",\n",
    "    \"database\": \"multi_disease_prediction\"\n",
    "}\n",
    "\n",
    "# Establish MySQL Connection\n",
    "try:\n",
    "    conn = mysql.connector.connect(**db_config)\n",
    "    cursor = conn.cursor()\n",
    "    print(\"Connected to MySQL successfully!\")\n",
    "except mysql.connector.Error as err:\n",
    "    print(f\"Error: {err}\")\n",
    "    exit()\n",
    "\n",
    "# Load CSV Data\n",
    "csv_file = \"medicinal.xlsx\"  # Change this to your actual CSV file name\n",
    "df = pd.read_excel(csv_file)\n",
    "\n",
    "# Insert Data into MySQL Table\n",
    "insert_query = \"\"\"\n",
    "    INSERT INTO medicinal_plants \n",
    "    (id, description, common_name, scientific_name, uses, origin, \n",
    "    availability, related_species, climate, soil, image_name) \n",
    "    VALUES (%s, %s, %s, %s, %s, %s, %s, %s, %s, %s, %s)\n",
    "\"\"\"\n",
    "\n",
    "# Convert DataFrame to List of Tuples\n",
    "data_to_insert = [tuple(row) for row in df.itertuples(index=False, name=None)]\n",
    "\n",
    "try:\n",
    "    cursor.executemany(insert_query, data_to_insert)\n",
    "    conn.commit()\n",
    "    print(f\"{cursor.rowcount} records inserted successfully!\")\n",
    "except mysql.connector.Error as err:\n",
    "    print(f\"Error inserting data: {err}\")\n",
    "    conn.rollback()\n",
    "\n",
    "# Close Connection\n",
    "cursor.close()\n",
    "conn.close()\n",
    "print(\"MySQL connection closed.\")\n"
   ]
  },
  {
   "cell_type": "raw",
   "id": "6a847029",
   "metadata": {},
   "source": [
    "CREATE TABLE medicinal_plants_diseases (\n",
    "    id INT AUTO_INCREMENT PRIMARY KEY,\n",
    "    disease_name VARCHAR(255) NOT NULL UNIQUE,\n",
    "    description TEXT NULL,\n",
    "    medicinal_plants_used TEXT NULL,    \n",
    "    comabination VARCHAR(255) NULL,\n",
    "    combination_description TEXT NOT NULL,\n",
    "    image_name_one VARCHAR(255) NOT NULL,\n",
    "    image_name_two VARCHAR(255) NOT NULL,\n",
    "    image_name_three VARCHAR(255) NOT NULL\n",
    ");"
   ]
  },
  {
   "cell_type": "code",
   "execution_count": 8,
   "id": "7d03b79b",
   "metadata": {},
   "outputs": [
    {
     "name": "stdout",
     "output_type": "stream",
     "text": [
      "Connected to MySQL successfully!\n",
      "10 records inserted successfully!\n",
      "MySQL connection closed.\n"
     ]
    }
   ],
   "source": [
    "import mysql.connector\n",
    "import pandas as pd\n",
    "\n",
    "# MySQL Connection Configurations\n",
    "db_config = {\n",
    "    \"host\": \"localhost\",\n",
    "    \"user\": \"root\",\n",
    "    \"password\": \"root\",\n",
    "    \"database\": \"multi_disease_prediction\"\n",
    "}\n",
    "\n",
    "# Establish MySQL Connection\n",
    "try:\n",
    "    conn = mysql.connector.connect(**db_config)\n",
    "    cursor = conn.cursor()\n",
    "    print(\"Connected to MySQL successfully!\")\n",
    "except mysql.connector.Error as err:\n",
    "    print(f\"Error: {err}\")\n",
    "    exit()\n",
    "\n",
    "# Load CSV Data\n",
    "csv_file = \"medicinal_plants_diseases.xlsx\"  # Change this to your actual CSV file name\n",
    "df = pd.read_excel(csv_file)\n",
    "\n",
    "# Insert Data into MySQL Table\n",
    "insert_query = \"\"\"\n",
    "    INSERT INTO medicinal_plants_diseases \n",
    "    (id, disease_name, description, medicinal_plants_used, comabination, combination_description, image_name_one, image_name_two, image_name_three) \n",
    "    VALUES (%s, %s, %s, %s, %s, %s, %s, %s, %s)\n",
    "\"\"\"\n",
    "\n",
    "# Convert DataFrame to List of Tuples\n",
    "data_to_insert = [tuple(row) for row in df.itertuples(index=False, name=None)]\n",
    "\n",
    "try:\n",
    "    cursor.executemany(insert_query, data_to_insert)\n",
    "    conn.commit()\n",
    "    print(f\"{cursor.rowcount} records inserted successfully!\")\n",
    "except mysql.connector.Error as err:\n",
    "    print(f\"Error inserting data: {err}\")\n",
    "    conn.rollback()\n",
    "\n",
    "# Close Connection\n",
    "cursor.close()\n",
    "conn.close()\n",
    "print(\"MySQL connection closed.\")\n"
   ]
  }
 ],
 "metadata": {
  "kernelspec": {
   "display_name": "Python 3 (ipykernel)",
   "language": "python",
   "name": "python3"
  },
  "language_info": {
   "codemirror_mode": {
    "name": "ipython",
    "version": 3
   },
   "file_extension": ".py",
   "mimetype": "text/x-python",
   "name": "python",
   "nbconvert_exporter": "python",
   "pygments_lexer": "ipython3",
   "version": "3.10.9"
  }
 },
 "nbformat": 4,
 "nbformat_minor": 5
}
