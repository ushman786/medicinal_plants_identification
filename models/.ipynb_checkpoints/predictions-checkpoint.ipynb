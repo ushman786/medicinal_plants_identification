{
 "cells": [
  {
   "cell_type": "code",
   "execution_count": 1,
   "id": "7991becd",
   "metadata": {},
   "outputs": [],
   "source": [
    "import os\n",
    "import cv2\n",
    "import numpy as np\n",
    "from keras.models import load_model\n",
    "import matplotlib.pyplot as plt\n",
    "import tensorflow as tf"
   ]
  },
  {
   "cell_type": "code",
   "execution_count": 2,
   "id": "8f6b12ff",
   "metadata": {
    "scrolled": true
   },
   "outputs": [],
   "source": [
    "# Define the classes (should match the training classes)\n",
    "#classes = ['cataract', 'glaucoma', 'normal', 'diabetic_retinopathy']\n",
    "\n",
    "classes= ['F', 'M', 'N', 'Q', 'S', 'V']"
   ]
  },
  {
   "cell_type": "code",
   "execution_count": 3,
   "id": "37237703",
   "metadata": {},
   "outputs": [],
   "source": [
    "# Load the saved model\n",
    "model = load_model('resnet.h5')"
   ]
  },
  {
   "cell_type": "code",
   "execution_count": 5,
   "id": "c3f9b455",
   "metadata": {},
   "outputs": [
    {
     "name": "stdout",
     "output_type": "stream",
     "text": [
      "1/1 [==============================] - 0s 23ms/step\n",
      "Predicted Probabilities: [[0. 1. 0. 0. 0. 0.]]\n",
      "M\n"
     ]
    }
   ],
   "source": [
    "def predict_image(image_path):\n",
    "    img = tf.keras.preprocessing.image.load_img(image_path, target_size=(124, 124))\n",
    "    x=np.array(img)\n",
    "    img_expanded=np.expand_dims(x, axis=0)\n",
    "    prediction = model.predict(img_expanded)\n",
    "\n",
    "        # Step 4: Display the raw probabilities\n",
    "    print(\"Predicted Probabilities:\", prediction)\n",
    "\n",
    "        # Step 5: Convert predicted probabilities to class labels\n",
    "    predicted_class = np.argmax(prediction, axis=1)\n",
    "\n",
    "        # Return the original image and predicted class\n",
    "    return img, classes[predicted_class[0]]\n",
    "\n",
    "# Path to the single image you want to predict\n",
    "image_path = r\"../test/M11.png\"  # Update this path to your test image\n",
    "\n",
    "# Make the prediction\n",
    "image, predicted_label = predict_image(image_path)\n",
    "\n",
    "print(predicted_label)"
   ]
  },
  {
   "cell_type": "code",
   "execution_count": null,
   "id": "a37cb9a8",
   "metadata": {},
   "outputs": [],
   "source": []
  }
 ],
 "metadata": {
  "kernelspec": {
   "display_name": "Python 3 (ipykernel)",
   "language": "python",
   "name": "python3"
  },
  "language_info": {
   "codemirror_mode": {
    "name": "ipython",
    "version": 3
   },
   "file_extension": ".py",
   "mimetype": "text/x-python",
   "name": "python",
   "nbconvert_exporter": "python",
   "pygments_lexer": "ipython3",
   "version": "3.10.9"
  }
 },
 "nbformat": 4,
 "nbformat_minor": 5
}
